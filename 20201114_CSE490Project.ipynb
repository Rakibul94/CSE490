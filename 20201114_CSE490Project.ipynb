{
  "cells": [
    {
      "cell_type": "markdown",
      "metadata": {
        "id": "SN8H1wkXPXZ9"
      },
      "source": [
        "**Lab07**\n",
        "\n",
        "# RSA"
      ]
    },
    {
      "cell_type": "code",
      "execution_count": 19,
      "metadata": {
        "colab": {
          "base_uri": "https://localhost:8080/"
        },
        "id": "cdtAO8nJT2kf",
        "outputId": "6eafd107-f987-4956-94bc-ec9837996668"
      },
      "outputs": [
        {
          "output_type": "stream",
          "name": "stdout",
          "text": [
            "Requirement already satisfied: pycryptodome in /usr/local/lib/python3.10/dist-packages (3.19.0)\n",
            "91694925243764\n"
          ]
        }
      ],
      "source": [
        "!pip install pycryptodome\n",
        "\n",
        "m = int(\"Secret\".encode(\"utf-8\").hex(),16)\n",
        "print(m)"
      ]
    },
    {
      "cell_type": "code",
      "source": [
        "#generate large prime(128 bits) p and q\n",
        "\n",
        "\n",
        "\n",
        "from Crypto.Util.number import getPrime\n",
        "\n",
        "b=128\n",
        "\n",
        "\n",
        "p=getPrime(b)\n",
        "q=getPrime(b)\n",
        "\n",
        "\n",
        "print(p)\n",
        "print(q)"
      ],
      "metadata": {
        "id": "u1fe5OEdFGGC",
        "colab": {
          "base_uri": "https://localhost:8080/"
        },
        "outputId": "353023a9-c28a-4685-f818-7bc1748795e6"
      },
      "execution_count": 20,
      "outputs": [
        {
          "output_type": "stream",
          "name": "stdout",
          "text": [
            "174366429231573286908714789521176367329\n",
            "222980098827536261643204206839670755117\n"
          ]
        }
      ]
    },
    {
      "cell_type": "code",
      "execution_count": 7,
      "metadata": {
        "colab": {
          "base_uri": "https://localhost:8080/"
        },
        "id": "Flep_Z78Pak0",
        "outputId": "05e95827-2528-4209-e4db-917f29d0187d"
      },
      "outputs": [
        {
          "output_type": "stream",
          "name": "stdout",
          "text": [
            "They are coprime\n",
            "46457098326481160777226019306580808413388468755618453847461112575736374245357\n",
            "5713531687636547825734128532622617973837438114587884191306749772621435023331\n"
          ]
        }
      ],
      "source": [
        "#Perform encryption here and generate ciphertext c and private key d\n",
        "import math\n",
        "\n",
        "e = 11\n",
        "\n",
        "\n",
        "n=p*q\n",
        "\n",
        "phi=(p-1)*(q-1)\n",
        "\n",
        "#print(n)\n",
        "\n",
        "\n",
        "if math.gcd(e,phi)==1:\n",
        "  print('They are coprime')\n",
        "\n",
        "if math.gcd(e,phi)!=1:\n",
        "  print('They are not coprime')\n",
        "\n",
        "\n",
        "c=pow(m,e,n)\n",
        "\n",
        "print(c)\n",
        "\n",
        "def euclid(a, b):\n",
        "    if a == 0:\n",
        "        return b, 0, 1\n",
        "    else:\n",
        "        gcd, x, y = euclid(b % a, a)\n",
        "        return gcd, y - (b // a) * x, x\n",
        "\n",
        "def invmod(e, phi):\n",
        "\n",
        "    gcd, x, y = euclid(e, phi)\n",
        "    x = x % phi\n",
        "    if gcd==1:\n",
        "      return x\n",
        "    else:\n",
        "      return 'Error'\n",
        "\n",
        "d = invmod(e,phi)\n",
        "\n",
        "print(d)"
      ]
    },
    {
      "cell_type": "code",
      "execution_count": 8,
      "metadata": {
        "id": "CUApcT0PZ4es",
        "colab": {
          "base_uri": "https://localhost:8080/"
        },
        "outputId": "424091e0-a6e9-4f1b-e7e7-40d55a60b84b"
      },
      "outputs": [
        {
          "output_type": "stream",
          "name": "stdout",
          "text": [
            "91694925243764\n"
          ]
        }
      ],
      "source": [
        "#perform decryption here\n",
        "\n",
        "m=pow(c,d,n)\n",
        "\n",
        "print(m)"
      ]
    },
    {
      "cell_type": "code",
      "source": [
        "m = 91694925243764\n",
        "print(bytes.fromhex(hex(m)[2:]).decode('utf-8') )"
      ],
      "metadata": {
        "colab": {
          "base_uri": "https://localhost:8080/"
        },
        "id": "sHDbhVSGFN6K",
        "outputId": "6982fd40-f6fe-40d8-9953-3e35f9c430f4"
      },
      "execution_count": 9,
      "outputs": [
        {
          "output_type": "stream",
          "name": "stdout",
          "text": [
            "Secret\n"
          ]
        }
      ]
    },
    {
      "cell_type": "markdown",
      "source": [
        "**Lab06**"
      ],
      "metadata": {
        "id": "r4laU41Ngln1"
      }
    },
    {
      "cell_type": "code",
      "source": [
        "!pip install cryptography\n",
        "\n",
        "from cryptography.fernet import Fernet\n",
        "import hashlib\n"
      ],
      "metadata": {
        "colab": {
          "base_uri": "https://localhost:8080/"
        },
        "id": "xLHP9L8ygp9F",
        "outputId": "74826763-f534-42fa-9629-37132408d623"
      },
      "execution_count": 13,
      "outputs": [
        {
          "output_type": "stream",
          "name": "stdout",
          "text": [
            "Requirement already satisfied: cryptography in /usr/local/lib/python3.10/dist-packages (41.0.7)\n",
            "Requirement already satisfied: cffi>=1.12 in /usr/local/lib/python3.10/dist-packages (from cryptography) (1.16.0)\n",
            "Requirement already satisfied: pycparser in /usr/local/lib/python3.10/dist-packages (from cffi>=1.12->cryptography) (2.21)\n"
          ]
        }
      ]
    },
    {
      "cell_type": "markdown",
      "source": [
        "Encrypting Secret File using RSA"
      ],
      "metadata": {
        "id": "xHlNZRVriMx-"
      }
    },
    {
      "cell_type": "code",
      "source": [
        "f = open(\"Secret.txt\", \"r\")\n",
        "output=f.read()\n",
        "print(output)\n",
        "m1 = int(output.encode(\"utf-8\").hex(),16)\n",
        "\n",
        "print(m1)"
      ],
      "metadata": {
        "colab": {
          "base_uri": "https://localhost:8080/"
        },
        "id": "_4zVbHgXiQe8",
        "outputId": "8b723b02-7fcd-4f1f-f968-884709a9ab98"
      },
      "execution_count": 29,
      "outputs": [
        {
          "output_type": "stream",
          "name": "stdout",
          "text": [
            "I will be the champ\n",
            "1630782626376116093030060149256433069625273712\n"
          ]
        }
      ]
    },
    {
      "cell_type": "code",
      "source": [
        "\n",
        "from Crypto.Util.number import getPrime\n",
        "\n",
        "b=128\n",
        "\n",
        "\n",
        "p=getPrime(b)\n",
        "q=getPrime(b)\n",
        "\n",
        "\n",
        "print(p)\n",
        "print(q)\n",
        "\n",
        "\n"
      ],
      "metadata": {
        "colab": {
          "base_uri": "https://localhost:8080/"
        },
        "id": "qmCCrA3llWVM",
        "outputId": "8c19a3ba-c9e1-47bf-8173-59230d58a008"
      },
      "execution_count": 30,
      "outputs": [
        {
          "output_type": "stream",
          "name": "stdout",
          "text": [
            "219813723542413626462250355852535987169\n",
            "310650175420161389846217443333180800357\n"
          ]
        }
      ]
    },
    {
      "cell_type": "code",
      "source": [
        "import math\n",
        "\n",
        "e = 11\n",
        "\n",
        "\n",
        "n=p*q\n",
        "\n",
        "phi=(p-1)*(q-1)\n",
        "\n",
        "#print(n)\n",
        "\n",
        "\n",
        "if math.gcd(e,phi)==1:\n",
        "  print('They are coprime')\n",
        "\n",
        "if math.gcd(e,phi)!=1:\n",
        "  print('They are not coprime')\n",
        "\n",
        "\n",
        "c=pow(m1,e,n)\n",
        "\n",
        "print(c)\n",
        "\n",
        "def euclid(a, b):\n",
        "    if a == 0:\n",
        "        return b, 0, 1\n",
        "    else:\n",
        "        gcd, x, y = euclid(b % a, a)\n",
        "        return gcd, y - (b // a) * x, x\n",
        "\n",
        "def invmod(e, phi):\n",
        "\n",
        "    gcd, x, y = euclid(e, phi)\n",
        "    x = x % phi\n",
        "    if gcd==1:\n",
        "      return x\n",
        "    else:\n",
        "      return 'Error'\n",
        "\n",
        "d = invmod(e,phi)\n",
        "\n",
        "print(d)"
      ],
      "metadata": {
        "colab": {
          "base_uri": "https://localhost:8080/"
        },
        "id": "Ftu42gnYlytc",
        "outputId": "e8a9b261-e37b-4751-d7e5-c71ea30aa9b6"
      },
      "execution_count": 31,
      "outputs": [
        {
          "output_type": "stream",
          "name": "stdout",
          "text": [
            "They are coprime\n",
            "54860844880332969407111343054016230351362991245895005542883014977281019391079\n",
            "62077428889281502339759473447197015964199343339144671693254109400842532574371\n"
          ]
        }
      ]
    },
    {
      "cell_type": "code",
      "source": [
        "\n",
        "m1=pow(c,d,n)\n",
        "\n",
        "print(m1)\n",
        "print(bytes.fromhex(hex(m1)[2:]).decode('utf-8') )"
      ],
      "metadata": {
        "colab": {
          "base_uri": "https://localhost:8080/"
        },
        "id": "2_DZzhrXmKDb",
        "outputId": "bd8d8d48-015b-4d65-96a4-3fda329951bc"
      },
      "execution_count": 33,
      "outputs": [
        {
          "output_type": "stream",
          "name": "stdout",
          "text": [
            "1630782626376116093030060149256433069625273712\n",
            "I will be the champ\n"
          ]
        }
      ]
    },
    {
      "cell_type": "markdown",
      "source": [
        "**Hash Function on Screte File**"
      ],
      "metadata": {
        "id": "hfJ0Y34rhOiz"
      }
    },
    {
      "cell_type": "code",
      "source": [
        "\n",
        "path= r'/content/Secret.txt'\n",
        "\n",
        "with open(path, 'rb') as secretfile:\n",
        "  output = secretfile.read()\n",
        "  sha256= hashlib.sha256()\n",
        "  sha256.update(output)\n",
        "\n",
        "\n",
        "\n",
        "print(sha256.hexdigest())\n",
        "\n",
        "\n"
      ],
      "metadata": {
        "colab": {
          "base_uri": "https://localhost:8080/"
        },
        "id": "0fqwDDxyhNh7",
        "outputId": "a709fcc3-ec26-4477-ba96-7f60aab65215"
      },
      "execution_count": 16,
      "outputs": [
        {
          "output_type": "stream",
          "name": "stdout",
          "text": [
            "b'I will be the champ'\n",
            "60976e7d78a3141ab37c45bfecf909adca32af78658ccede7de32e2aa3df5925\n"
          ]
        }
      ]
    },
    {
      "cell_type": "markdown",
      "source": [
        "**Hashing and Digital Signature**"
      ],
      "metadata": {
        "id": "B3Pl39brhuET"
      }
    },
    {
      "cell_type": "code",
      "source": [
        "import rsa\n",
        "\n",
        "(public,private) = rsa.newkeys(2048)\n",
        "\n",
        "with open('publickey.key', 'wb') as keyfile2:\n",
        "  keyfile2.write(public.save_pkcs1('PEM'))\n",
        "\n",
        "\n",
        "with open('privatekey.key', 'wb') as keyfile2:\n",
        "  keyfile2.write(private.save_pkcs1('PEM'))\n",
        "\n",
        "\n",
        "def openfile(file):\n",
        "  keyfile=open(file,'rb')\n",
        "  keydata=keyfile.read()\n",
        "  keyfile.close()\n",
        "  return keydata\n",
        "\n",
        "\n",
        "\n",
        "private = rsa.PrivateKey.load_pkcs1(openfile('privatekey.key'))\n",
        "\n",
        "\n",
        "output= openfile('Secret.txt')\n",
        "hash= rsa.compute_hash(output, 'SHA-512')\n",
        "\n",
        "sign = rsa.sign(output,private, 'SHA-512')\n",
        "\n",
        "s= open('signedfile','wb')\n",
        "s.write(sign)\n",
        "\n",
        "print(sign)\n",
        "print(len(sign))\n",
        "\n",
        "print(len(hash) * 8)\n",
        "\n",
        "\n",
        "\n",
        "public = rsa.PublicKey.load_pkcs1(openfile('publickey.key'))\n",
        "\n",
        "\n",
        "output= openfile('Secret.txt')\n",
        "signature= openfile('signedfile')\n",
        "\n",
        "try:\n",
        "  rsa.verify(output,signature,public)\n",
        "\n",
        "except:\n",
        "  print('Signature cannot be verified')"
      ],
      "metadata": {
        "colab": {
          "base_uri": "https://localhost:8080/"
        },
        "id": "yKWGeT27h0Rk",
        "outputId": "364e7824-c4b7-47ef-88e4-29dfe870a6ba"
      },
      "execution_count": 15,
      "outputs": [
        {
          "output_type": "stream",
          "name": "stdout",
          "text": [
            "b'O\\x8e\\x88\\xf1\\x08\\xf7\\xc6\\x13\\x01n\\xc4\\x91\\x1c\\x8cL<\\xe8X\\xb3t\\x07\\xf3\\xab\\x08G5\\x03\\x13\\xc8c\\xffVL\\xbc\\xcb=\\xd7H\\x07\\xabB\\xca\\x80\\x95\\xbf\\xe3\\x84h\\xeeD\\xd0\\xf1\\xed\\xb6t\\xde\\x05\\xe7\\xae\\xa1\\xdd>\\x1c\\xd1^B\\x9eA\\x8f\\xcb\\xedC\\xb1\\x88\\xc825O\\x96\\\\\\xdb\\xb7O\\x02D\\xc6[mL\\x94\\no\\x9d\\xb1*\\xc1\\xe3\\xe8\\xa8\\xcb\\x1f<\\x16\\xc8\\xe4\\xfa\\xcel |\\xaf\\x99\\xbe\\x80\\xa1\\xb5#\\xba\\x98T\\xdc\\x19\\xf9\\x1c\\xabG^\\x91\\nP\\xbc\\xbc\\x11P$-\\x90\\xd0c\\xc1\\xa5\\x91\\x8b\\xdb\\xc2\\xbcl*\\xca\\xcb\\xc8g\\xb5(\\x9c\\x99\\xb1?\\x90\\xb9\\xb8bK\"<\\xf8\\xd6\\x91:n \\xe3\\xc6YD\\xa9\\x8e\\xc5?\\xf4\\x84\\xc6\\x10p\\xc9\\xfb\\x85x\\xe0R\\x1f\\x0f\\xb0\\'\\xc2\\xa1r\\x7f\\xadS\\xbe\\xe7\\xfc[\\xbc\\x94\\x9d\\xe8\\n\\xd8\\xfa&\\x03\\xaa\\x0bR\\xa2\\xf1x\\xb5\\xa2ey\\x98\\xad\\xda\\x97\\x8d\\xe15\\x82-U<\\x9fG\\xe2\\xb6\\xee\\x12\\xb9\\x86\\xa76z\\xd7\\xd2\\xdf/\\xa6\\x01\\x13\\x93L\\xc2\\xed'\n",
            "256\n",
            "512\n",
            "Signature cannot be verified\n"
          ]
        }
      ]
    }
  ],
  "metadata": {
    "colab": {
      "provenance": []
    },
    "kernelspec": {
      "display_name": "Python 3",
      "name": "python3"
    },
    "language_info": {
      "name": "python"
    }
  },
  "nbformat": 4,
  "nbformat_minor": 0
}