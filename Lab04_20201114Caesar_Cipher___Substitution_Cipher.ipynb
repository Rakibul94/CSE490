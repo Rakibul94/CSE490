{
  "nbformat": 4,
  "nbformat_minor": 0,
  "metadata": {
    "colab": {
      "provenance": []
    },
    "kernelspec": {
      "name": "python3",
      "display_name": "Python 3"
    },
    "language_info": {
      "name": "python"
    }
  },
  "cells": [
    {
      "cell_type": "markdown",
      "source": [
        "# Caesar Cipher"
      ],
      "metadata": {
        "id": "1wOocgMlVig-"
      }
    },
    {
      "cell_type": "code",
      "source": [
        "def decrypt_shift_cipher(ciphertext, key):\n",
        "  #to do\n",
        "  dec_text=\"\"\n",
        "  for l in ciphertext:\n",
        "    if l==\" \":\n",
        "      dec_text+=\" \"\n",
        "\n",
        "    elif l>=chr(97) and l<chr(123):\n",
        "      l=l.lower()\n",
        "      p=chr(((ord(l)-ord('a')-key)%26)+ord('a'))\n",
        "      dec_text=dec_text+p\n",
        "\n",
        "  return dec_text\n",
        "\n"
      ],
      "metadata": {
        "id": "DeTQVJUm2hm0"
      },
      "execution_count": null,
      "outputs": []
    },
    {
      "cell_type": "code",
      "source": [
        "#Decrypt the following text and find out the value of the key using the decrypt_shift_cipher() method.\n",
        "ciphertext = \"espbftnvmczhyqziufxadzgpcehzwlkjozrd\"\n",
        "for i in range(1,26):\n",
        "  print(decrypt_shift_cipher(ciphertext, i))"
      ],
      "metadata": {
        "id": "dBQ7hHE_20uH",
        "collapsed": true,
        "colab": {
          "base_uri": "https://localhost:8080/"
        },
        "outputId": "efbfd41e-ed45-45c7-d402-060a8488d674"
      },
      "execution_count": null,
      "outputs": [
        {
          "output_type": "stream",
          "name": "stdout",
          "text": [
            "droaesmulbygxpyhtewzcyfobdgyvkjinyqc\n",
            "cqnzdrltkaxfwoxgsdvybxenacfxujihmxpb\n",
            "bpmycqksjzwevnwfrcuxawdmzbewtihglwoa\n",
            "aolxbpjriyvdumveqbtwzvclyadvshgfkvnz\n",
            "znkwaoiqhxuctludpasvyubkxzcurgfejumy\n",
            "ymjvznhpgwtbsktcozruxtajwybtqfeditlx\n",
            "xliuymgofvsarjsbnyqtwszivxaspedchskw\n",
            "wkhtxlfneurzqiramxpsvryhuwzrodcbgrjv\n",
            "vjgswkemdtqyphqzlworuqxgtvyqncbafqiu\n",
            "uifrvjdlcspxogpykvnqtpwfsuxpmbazepht\n",
            "thequickbrownfoxjumpsovertwolazydogs\n",
            "sgdpthbjaqnvmenwitlornudqsvnkzyxcnfr\n",
            "rfcosgaizpmuldmvhsknqmtcprumjyxwbmeq\n",
            "qebnrfzhyoltkclugrjmplsboqtlixwvaldp\n",
            "pdamqeygxnksjbktfqilokranpskhwvuzkco\n",
            "oczlpdxfwmjriajsephknjqzmorjgvutyjbn\n",
            "nbykocwevliqhzirdogjmipylnqifutsxiam\n",
            "maxjnbvdukhpgyhqcnfilhoxkmphetsrwhzl\n",
            "lzwimauctjgofxgpbmehkgnwjlogdsrqvgyk\n",
            "kyvhlztbsifnewfoaldgjfmviknfcrqpufxj\n",
            "jxugkysarhemdvenzkcfieluhjmebqpotewi\n",
            "iwtfjxrzqgdlcudmyjbehdktgildaponsdvh\n",
            "hvseiwqypfckbtclxiadgcjsfhkczonmrcug\n",
            "gurdhvpxoebjasbkwhzcfbiregjbynmlqbtf\n",
            "ftqcguowndaizrajvgybeahqdfiaxmlkpase\n"
          ]
        }
      ]
    },
    {
      "cell_type": "markdown",
      "source": [
        "# Substitution Cipher"
      ],
      "metadata": {
        "id": "RqFWriJBVoDO"
      }
    },
    {
      "cell_type": "code",
      "source": [
        "import pandas as pd\n",
        "def frequency_table(text):\n",
        "  text = text.lower()\n",
        "  table = []\n",
        "  count = 0\n",
        "  for i in text:\n",
        "    if i in 'qwertyuiopasdfghjklzxcvbnm':\n",
        "      count += 1\n",
        "  for i in range(97,123):\n",
        "      table.append(text.count(chr(i))/count)\n",
        "  index = [i[0] for i in sorted(enumerate(table), key=lambda x:x[1])][::-1]\n",
        "  for i in index:\n",
        "    print(chr(97+i)+\":\"+str(table[i]))"
      ],
      "metadata": {
        "id": "ZwImnQeYVtGE"
      },
      "execution_count": null,
      "outputs": []
    },
    {
      "cell_type": "code",
      "source": [
        "# ciphertext = \"awbix ildxz kolf a dkzeplld afu zbjjbfm lf bj bz a rwkx iajxpobwwap zdlgbfm a ellgae.\\n jex iajxpobwwap ykxzjblfz awbix afu zex audbjz jl exp ikppxfj buxfjbjt ipbzbz, ildolkfuxu rt exp bfarbwbjt jl pxdxdrxp a olxd.\\n rxnlpx ipahwbfm ahat, jex iajxpobwwap jxwwz awbix jeaj lfx zbux ln jex dkzeplld hbww dagx exp jawwxp afu jex ljexp zbux hbww dagx exp zelpjxp.\\n zex rpxagz lnn jhl obxixz npld jex dkzeplld.\\n lfx zbux dagxz exp zepbfg zdawwxp jeaf xcxp, hebwx afljexp iakzxz exp fxig jl mplh ebme bfjl jex jpxxz, hexpx a obmxlf dbzjagxz exp nlp a zxpoxfj.\\n hbje zldx xnnlpj, awbix rpbfmz expzxwn raig jl exp kzkaw exbmej.\\n zex zjkdrwxz kolf a zdaww xzjajx afu kzxz jex dkzeplld jl pxaie a dlpx aooplopbajx exbmej.\"\n",
        "# frequency_table(ciphertext)"
      ],
      "metadata": {
        "id": "2R-LMVH-brn3",
        "colab": {
          "base_uri": "https://localhost:8080/"
        },
        "outputId": "777930ef-3bac-47fd-efa4-537fa7a1dabe"
      },
      "execution_count": null,
      "outputs": [
        {
          "output_type": "stream",
          "name": "stdout",
          "text": [
            "x:0.140597539543058\n",
            "p:0.08260105448154657\n",
            "a:0.08084358523725835\n",
            "j:0.07908611599297012\n",
            "z:0.07381370826010544\n",
            "l:0.07381370826010544\n",
            "e:0.07205623901581722\n",
            "b:0.06854130052724078\n",
            "w:0.050966608084358524\n",
            "f:0.043936731107205626\n",
            "d:0.043936731107205626\n",
            "i:0.029876977152899824\n",
            "k:0.026362038664323375\n",
            "o:0.022847100175746926\n",
            "u:0.019332161687170474\n",
            "g:0.01757469244288225\n",
            "r:0.015817223198594025\n",
            "n:0.015817223198594025\n",
            "m:0.015817223198594025\n",
            "h:0.015817223198594025\n",
            "t:0.007029876977152899\n",
            "y:0.0017574692442882249\n",
            "c:0.0017574692442882249\n",
            "v:0.0\n",
            "s:0.0\n",
            "q:0.0\n"
          ]
        }
      ]
    },
    {
      "cell_type": "code",
      "source": [
        "# ciphertext = \"awbix ildxz kolf a dkzeplld afu zbjjbfm lf bj bz a rwkx iajxpobwwap zdlgbfm a ellgae.\\n jex iajxpobwwap ykxzjblfz awbix afu zex audbjz jl exp ikppxfj buxfjbjt ipbzbz, ildolkfuxu rt exp bfarbwbjt jl pxdxdrxp a olxd.\\n rxnlpx ipahwbfm ahat, jex iajxpobwwap jxwwz awbix jeaj lfx zbux ln jex dkzeplld hbww dagx exp jawwxp afu jex ljexp zbux hbww dagx exp zelpjxp.\\n zex rpxagz lnn jhl obxixz npld jex dkzeplld.\\n lfx zbux dagxz exp zepbfg zdawwxp jeaf xcxp, hebwx afljexp iakzxz exp fxig jl mplh ebme bfjl jex jpxxz, hexpx a obmxlf dbzjagxz exp nlp a zxpoxfj.\\n hbje zldx xnnlpj, awbix rpbfmz expzxwn raig jl exp kzkaw exbmej.\\n zex zjkdrwxz kolf a zdaww xzjajx afu kzxz jex dkzeplld jl pxaie a dlpx aooplopbajx exbmej.\"\n",
        "# ciphertext = ciphertext.replace('x','E')\n",
        "# ciphertext = ciphertext.replace('j','T')\n",
        "# ciphertext = ciphertext.replace('e','H')\n",
        "# ciphertext = ciphertext.replace('a','A')\n",
        "# ciphertext = ciphertext.replace('z','S')\n",
        "# ciphertext = ciphertext.replace('l','O')\n",
        "# ciphertext = ciphertext.replace('p','R')\n",
        "# ciphertext = ciphertext.replace('b','I')\n",
        "# ciphertext = ciphertext.replace('o','P')\n",
        "# ciphertext = ciphertext.replace('m','G')\n",
        "# ciphertext = ciphertext.replace('i','C')\n",
        "# ciphertext = ciphertext.replace('w','L')\n",
        "# ciphertext = ciphertext.replace('f','N')\n",
        "# ciphertext = ciphertext.replace('d','M')\n",
        "# ciphertext = ciphertext.replace('g','K')\n",
        "# ciphertext = ciphertext.replace('u','D')\n",
        "# ciphertext = ciphertext.replace('k','U')\n",
        "# ciphertext = ciphertext.replace('t','Y')\n",
        "# ciphertext = ciphertext.replace('y','Q')\n",
        "# ciphertext = ciphertext.replace('r','B')\n",
        "# ciphertext = ciphertext.replace('c','V')\n",
        "# ciphertext = ciphertext.replace('h','W')\n",
        "# ciphertext = ciphertext.replace('n','F')\n",
        "# print(ciphertext)"
      ],
      "metadata": {
        "id": "B2wtNETpfajr",
        "colab": {
          "base_uri": "https://localhost:8080/"
        },
        "outputId": "a6c1a165-d90b-4fd6-a1dd-cac2f0211e87"
      },
      "execution_count": null,
      "outputs": [
        {
          "output_type": "stream",
          "name": "stdout",
          "text": [
            "ALICE COMES UPON A MUSHROOM AND SITTING ON IT IS A BLUE CATERPILLAR SMOKING A HOOKAH.\n",
            " THE CATERPILLAR QUESTIONS ALICE AND SHE ADMITS TO HER CURRENT IDENTITY CRISIS, COMPOUNDED BY HER INABILITY TO REMEMBER A POEM.\n",
            " BEFORE CRAWLING AWAY, THE CATERPILLAR TELLS ALICE THAT ONE SIDE OF THE MUSHROOM WILL MAKE HER TALLER AND THE OTHER SIDE WILL MAKE HER SHORTER.\n",
            " SHE BREAKS OFF TWO PIECES FROM THE MUSHROOM.\n",
            " ONE SIDE MAKES HER SHRINK SMALLER THAN EVER, WHILE ANOTHER CAUSES HER NECK TO GROW HIGH INTO THE TREES, WHERE A PIGEON MISTAKES HER FOR A SERPENT.\n",
            " WITH SOME EFFORT, ALICE BRINGS HERSELF BACK TO HER USUAL HEIGHT.\n",
            " SHE STUMBLES UPON A SMALL ESTATE AND USES THE MUSHROOM TO REACH A MORE APPROPRIATE HEIGHT.\n"
          ]
        }
      ]
    },
    {
      "cell_type": "code",
      "source": [
        "c=\"KTFRTNXGWL COMI KBDB ZA BKMIWK E. ESBKQT KTEGWFML MIT DOLLOGF GY MIT LHBETLIOH TFRTBXGWK BFR OML LMBYY BL OM EGDHSTMTL BF TVHSGKBMGKA DOLLOGF GF BF BSOTF LHBET XTLLTS MKBXTSOFU MIGWUI MIT LGSBK LALMTD. MIT FGXTS WFRTKSOFTL MIT ROYYOEWSMOTL TFEGWFMTKTR ZA MIT TVHSGKTKL BL MITA MKA MG BRBHM MG BF TFXOKGFDTFM MIBM GZTAL MIT KWSTL GY HIALOEL OF B HSBET MIBM\"\n",
        "frequency_table(c)"
      ],
      "metadata": {
        "colab": {
          "base_uri": "https://localhost:8080/"
        },
        "id": "f6uDnV04d4fE",
        "outputId": "612dccd8-4c05-487d-b556-7f5849a3e028"
      },
      "execution_count": null,
      "outputs": [
        {
          "output_type": "stream",
          "name": "stdout",
          "text": [
            "t:0.1292517006802721\n",
            "m:0.10204081632653061\n",
            "l:0.08843537414965986\n",
            "b:0.08163265306122448\n",
            "f:0.07142857142857142\n",
            "g:0.06802721088435375\n",
            "k:0.061224489795918366\n",
            "o:0.05782312925170068\n",
            "i:0.05442176870748299\n",
            "s:0.04421768707482993\n",
            "e:0.034013605442176874\n",
            "w:0.030612244897959183\n",
            "h:0.030612244897959183\n",
            "a:0.027210884353741496\n",
            "r:0.023809523809523808\n",
            "y:0.02040816326530612\n",
            "x:0.02040816326530612\n",
            "d:0.02040816326530612\n",
            "z:0.01020408163265306\n",
            "v:0.006802721088435374\n",
            "u:0.006802721088435374\n",
            "q:0.003401360544217687\n",
            "n:0.003401360544217687\n",
            "c:0.003401360544217687\n",
            "p:0.0\n",
            "j:0.0\n"
          ]
        }
      ]
    },
    {
      "cell_type": "code",
      "source": [
        "c=\"KTFRTNXGWL COMI KBDB ZA BKMIWK E.\\nESBKQT KTEGWFML MIT DOLLOGF GY MIT LHBETLIOH TFRTBXGWK BFR OML LMBYY BL OM EGDHSTMTL BF TVHSGKBMGKA DOLLOGF GF BF BSOTF LHBET XTLLTS MKBXTSOFU MIGWUI MIT LGSBK LALMTD.\\nMIT FGXTS WFRTKSOFTL MIT ROYYOEWSMOTL TFEGWFMTKTR ZA MIT TVHSGKTKL BL MITA MKA MG BRBHM MG BF TFXOKGFDTFM MIBM GZTAL MIT KWSTL GY HIALOEL OF B HSBET MIBM\"\n",
        "\n",
        "c = c.replace('I','H')\n",
        "c = c.replace('A','Y')\n",
        "c = c.replace('Z','B')\n",
        "c = c.replace('K','R')\n",
        "c = c.replace('W','U')\n",
        "c = c.replace('D','M')\n",
        "c = c.replace('A','B')\n",
        "c = c.replace('B','A')\n",
        "c = c.replace('F','N')\n",
        "c = c.replace('C','W')\n",
        "c = c.replace('X','V')\n",
        "c = c.replace('T','E')\n",
        "c = c.replace('M','T')\n",
        "c = c.replace('O','I')\n",
        "c = c.replace('G','O')\n",
        "c = c.replace('S','L')\n",
        "c = c.replace('L','S')\n",
        "\n",
        "\n",
        "\n",
        "\n",
        "print(c)"
      ],
      "metadata": {
        "colab": {
          "base_uri": "https://localhost:8080/"
        },
        "id": "BW90wDH4r20j",
        "outputId": "7f493f24-0eea-4f2a-b642-447a89bb9411"
      },
      "execution_count": null,
      "outputs": [
        {
          "output_type": "stream",
          "name": "stdout",
          "text": [
            "RENRENVOUS WITH RATA AY ARTHUR E.\n",
            "ESARQE REEOUNTS THE TISSION OY THE SHAEESHIH ENREAVOUR ANR ITS STAYY AS IT EOTHSETES AN EVHSORATORY TISSION ON AN ASIEN SHAEE VESSES TRAVESINU THOUUH THE SOSAR SYSTET.\n",
            "THE NOVES UNRERSINES THE RIYYIEUSTIES ENEOUNTERER AY THE EVHSORERS AS THEY TRY TO ARAHT TO AN ENVIRONTENT THAT OAEYS THE RUSES OY HHYSIES IN A HSAEE THAT\n"
          ]
        }
      ]
    },
    {
      "cell_type": "code",
      "source": [
        "c2=\"RWKOFU MIT SBLM JWBKMTK GY MIT MCTFMA LTEGFR ETFMWKA, DBFQOFR LHGMMTR BF WFQFGCF BFR WFTVHTEMTR LHBET GZPTEM MKBXTSOFU BEKGLL MIT HBMI GY MIT HSBFTML MGCBKR MIT LWF.\\nMIT GZPTEM OL FBDTR KBDB BFR LEOTFMOLML LTFR B HKGZT FTBK MIT GZPTEM.\\nMIT HKGZT ORTFMOYOTL KBDB BL BF BKMOYOEOBS, DTMBSSOE GZPTEM MIT LONT GY B LDBSS DTMTGKOMT, HTKYTEMSA EASOFRKOEBS BFR BHHBKTFMSA OFBEMOXT.\\nB MTBD GY TVHSGKTKL OL MITF LTFM GF B DOLLOGF MG SBFR GF MIT GZPTEM BFR TVHSGKT OML EGFMTFM.\\nMIT MTBD BZGBKR LHBETLIOH TFRTBXGWK ROLEGXTKL B CGKSR CIGLT HIALOEBS EIBKBEMTKOLMOEL BKT XTKA ROYYTKTFM YKGD MIBM CIOEI HKTXBOSL TSLTCITKT OF MIT WFOXTKLT BFR CITKT MIT SBCL GY HIALOEL BHHSA MG B LTSY-TFESGLTR, LTSY-LWYYOEOTFM EASOFRKOEBS CGKSR.\\nBM YOKLM, MIT CGKSR GY KBDB LTTDL MG IBXT ZTTF TOMITK BLSTTH GK RTBR YGK B DOSSOGF ATBKL BL OM RKOYMTR MIKGWUI LHBET.\\nMITF BL OM UTML FTBKTK MG MIT LWF, MIT EGSR BFR RBKQ BSOTF LIOH BCBQTFL COMIGWM B CBKFOFU BFR SOUIML WH.\\nSOYT TDTKUTL YKGD MIT RTHMI GY MIT EASOFRKOEBS LTB MIBM EWML MIT KBDB CGKSR OF IBSY. TXGSWMOGF MBQTL HSBET BM B IOUISA\\nBEETSTKBMTR HBET BL LHTEOTL GY BSOTFL BKT EGFLMBFMSA ZGKF BFR SBMTK KTEAESTR ZA MITOK TFXOKGFDTFM.\\nMIT TVHSGKTKL TFEGWFMTK ROYYTKTFM, FGF-MIKTBMTFOFU LHTEOTL GY BSOTFL.\\nMITLT BSOTF EKTBMWKTL, HBKMA ZOGSGUOEBS BFR HBKMSA KGZGMOE, BKT ZTOFU KTHTBMTRSA KTHSBETR ZA DGKT EGDHSTV ZTOFUL GXTK EAESTL SBLMOFU B YTC RBAL.\\nMIT BRXTFMWKTKL YBET ROYYTKTFM MTEIFGSGUOEBS EIBSSTFUTL BFR IBXT MG KTSA GF ZGMI MITOK GCF QFGCSTRUT BFR MIT BRXOET GY B EGDDOMMTT GY LEOTFMOLML SGEBMTR GF B ROYYTKTFM HSBFTM MG EGFJWTK MIT LTEKTML GY KBDB. MIT HBMI GY MIT BSOTF LIOH YGKETL MIT TVHSGKTK'L\\nXTLLTS MG TFR OML DOLLOGF BFR STBXT PWLM BL MIT CGKSR GY KBDB LTTDL MG KTXTKM MG OML GKOUOFBS RBKQ, LOSTFM BFR BHHBKTFMSA LSTTHA LMBMT.\\nKBDB MITF KTBSOUFL\"\n",
        "\n",
        "c2 = c2.replace('I','H')\n",
        "c2 = c2.replace('A','Y')\n",
        "c2 = c2.replace('Z','B')\n",
        "c2 = c2.replace('K','R')\n",
        "c2 = c2.replace('W','U')\n",
        "c2 = c2.replace('D','M')\n",
        "c2 = c2.replace('A','B')\n",
        "c2 = c2.replace('B','A')\n",
        "c2 = c2.replace('F','N')\n",
        "c2 = c2.replace('C','W')\n",
        "c2 = c2.replace('X','V')\n",
        "c2 = c2.replace('T','E')\n",
        "c2 = c2.replace('M','T')\n",
        "c2 = c2.replace('O','I')\n",
        "c2 = c2.replace('G','O')\n",
        "c2 = c2.replace('S','L')\n",
        "c2 = c2.replace('L','S')\n",
        "\n",
        "\n",
        "\n",
        "\n",
        "print(c2)"
      ],
      "metadata": {
        "colab": {
          "base_uri": "https://localhost:8080/"
        },
        "id": "fIO9hlRlnVDM",
        "outputId": "27fa6caf-fb0a-489e-c0f6-e94c6e5b748a"
      },
      "execution_count": null,
      "outputs": [
        {
          "output_type": "stream",
          "name": "stdout",
          "text": [
            "RURINU THE SAST JUARTER OY THE TWENTY SEEONR EENTURY, TANQINR SHOTTER AN UNQNOWN ANR UNEVHEETER SHAEE OAPEET TRAVESINU AEROSS THE HATH OY THE HSANETS TOWARR THE SUN.\n",
            "THE OAPEET IS NATER RATA ANR SEIENTISTS SENR A HROAE NEAR THE OAPEET.\n",
            "THE HROAE IRENTIYIES RATA AS AN ARTIYIEIAS, TETASSIE OAPEET THE SINE OY A STASS TETEORITE, HERYEETSY EYSINRRIEAS ANR AHHARENTSY INAETIVE.\n",
            "A TEAT OY EVHSORERS IS THEN SENT ON A TISSION TO SANR ON THE OAPEET ANR EVHSORE ITS EONTENT.\n",
            "THE TEAT AAOARR SHAEESHIH ENREAVOUR RISEOVERS A WORSR WHOSE HHYSIEAS EHARAETERISTIES ARE VERY RIYYERENT YROT THAT WHIEH HREVAISS ESSEWHERE IN THE UNIVERSE ANR WHERE THE SAWS OY HHYSIES AHHSY TO A SESY-ENESOSER, SESY-SUYYIEIENT EYSINRRIEAS WORSR.\n",
            "AT YIRST, THE WORSR OY RATA SEETS TO HAVE AEEN EITHER ASSEEH OR REAR YOR A TISSION YEARS AS IT RRIYTER THROUUH SHAEE.\n",
            "THEN AS IT UETS NEARER TO THE SUN, THE EOSR ANR RARQ ASIEN SHIH AWAQENS WITHOUT A WARNINU ANR SIUHTS UH.\n",
            "SIYE ETERUES YROT THE REHTH OY THE EYSINRRIEAS SEA THAT EUTS THE RATA WORSR IN HASY. EVOSUTION TAQES HSAEE AT A HIUHSY\n",
            "AEEESERATER HAEE AS SHEEIES OY ASIENS ARE EONSTANTSY AORN ANR SATER REEYESER AY THEIR ENVIRONTENT.\n",
            "THE EVHSORERS ENEOUNTER RIYYERENT, NON-THREATENINU SHEEIES OY ASIENS.\n",
            "THESE ASIEN EREATURES, HARTY AIOSOUIEAS ANR HARTSY ROAOTIE, ARE AEINU REHEATERSY REHSAEER AY TORE EOTHSEV AEINUS OVER EYESES SASTINU A YEW RAYS.\n",
            "THE ARVENTURERS YAEE RIYYERENT TEEHNOSOUIEAS EHASSENUES ANR HAVE TO RESY ON AOTH THEIR OWN QNOWSERUE ANR THE ARVIEE OY A EOTTITTEE OY SEIENTISTS SOEATER ON A RIYYERENT HSANET TO EONJUER THE SEERETS OY RATA. THE HATH OY THE ASIEN SHIH YOREES THE EVHSORER'S\n",
            "VESSES TO ENR ITS TISSION ANR SEAVE PUST AS THE WORSR OY RATA SEETS TO REVERT TO ITS ORIUINAS RARQ, SISENT ANR AHHARENTSY SSEEHY STATE.\n",
            "RATA THEN REASIUNS\n"
          ]
        }
      ]
    }
  ]
}